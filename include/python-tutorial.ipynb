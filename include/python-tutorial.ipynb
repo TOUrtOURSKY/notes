{
 "cells": [
  {
   "cell_type": "markdown",
   "metadata": {},
   "source": [
    "The best way to learn Python, is to try it out. Understand it, Feel it.\n",
    "\n",
    "先占坑，因为我对 python 不熟。大概有这几个地方需要知道的。\n",
    "\n",
    "唯一推荐的一本书：[Scipy Lecture Notes — Scipy lecture notes](http://www.scipy-lectures.org/index.html)。\n",
    "\n",
    "尤其要理解这幅图：\n",
    "\n",
    "<http://www.scipy-lectures.org/_images/numpy_indexing.png>\n",
    "\n",
    "我已经下载了这幅图片：numpy_indexing.png（当前文件夹），下面用几种方法把它显示出来。"
   ]
  },
  {
   "cell_type": "code",
   "execution_count": 20,
   "metadata": {
    "collapsed": false
   },
   "outputs": [],
   "source": [
    "# 系统调用，Windows 平台可用\n",
    "import os\n",
    "\n",
    "# 这四种方法都可以：\n",
    "# os.system('start numpy_indexing.png')\n",
    "# os.system('numpy_indexing.png')\n",
    "# !start numpy_indexing.png\n",
    "# !numpy_indexing.png"
   ]
  },
  {
   "cell_type": "markdown",
   "metadata": {},
   "source": [
    "[Image tutorial — Matplotlib 1.5.1 documentation](http://matplotlib.org/users/image_tutorial.html)"
   ]
  },
  {
   "cell_type": "code",
   "execution_count": 18,
   "metadata": {
    "collapsed": false
   },
   "outputs": [
    {
     "data": {
      "text/plain": [
       "<matplotlib.image.AxesImage at 0x43e0128>"
      ]
     },
     "execution_count": 18,
     "metadata": {},
     "output_type": "execute_result"
    }
   ],
   "source": [
    "import matplotlib.pyplot as plt\n",
    "import matplotlib.image as mpimg\n",
    "import numpy as np\n",
    "\n",
    "img=mpimg.imread('numpy_indexing.png')\n",
    "#imgplot = plt.imshow(img)\n",
    "plt.imshow(img, cmap=\"hot\")"
   ]
  },
  {
   "cell_type": "code",
   "execution_count": 19,
   "metadata": {
    "collapsed": true
   },
   "outputs": [],
   "source": [
    "from PIL import Image                                                                                \n",
    "img = Image.open('numpy_indexing.png')\n",
    "img.show() # 还是系统软件打开图像……（但是是一张临时文件）"
   ]
  },
  {
   "cell_type": "code",
   "execution_count": 51,
   "metadata": {
    "collapsed": false
   },
   "outputs": [
    {
     "name": "stdout",
     "output_type": "stream",
     "text": [
      "str(23): 23 \n",
      "c style print: '45.6 (%s)' -> 45.600000\n",
      "string population: 2**3 = 8\n",
      "len([1,3,5]): 3\n",
      "5 [1, 3, 5, 7, 9] [9, 7, 5, 3, 1] [7, 5]\n",
      "{'newkey': 'new value', 'key': 'value', 'nested': {'key2': 'str is string', 'key': 105}}\n"
     ]
    }
   ],
   "source": [
    "# string, numbers, lists, dicts, etc\n",
    "print \"\"\"str(23): \"\"\" + str(23), \"\\n%s: '%s' -> %f\" %(\"c style print\", \"45.6 (%s)\", 45.6)\n",
    "print \"string population: {} = {}\".format(\"2**3\", 2**3)\n",
    "print \"{}: {}\".format(\"len([1,3,5])\", len([1,3,5]))\n",
    "\n",
    "# list\n",
    "arr = [1, 3, 5, 7, 9]\n",
    "print arr[2], arr, arr[::-1], arr[-2:-4:-1]\n",
    "\n",
    "# dict\n",
    "d = dict({\"key\": \"value\"})\n",
    "d[\"newkey\"] = \"new value\" # !!! error: d.newkey = \"new value\" \n",
    "d[\"nested\"] = dict()\n",
    "d[\"nested\"][\"key\"] = 5\n",
    "d[\"nested\"][\"key\"] += 100\n",
    "d[\"nested\"][\"key2\"] = \"str\"\n",
    "d[\"nested\"][\"key2\"] += \" is string\"\n",
    "print d"
   ]
  },
  {
   "cell_type": "code",
   "execution_count": 52,
   "metadata": {
    "collapsed": false
   },
   "outputs": [
    {
     "ename": "ImportError",
     "evalue": "No module named easydict",
     "output_type": "error",
     "traceback": [
      "\u001b[1;31m---------------------------------------------------------------------------\u001b[0m",
      "\u001b[1;31mImportError\u001b[0m                               Traceback (most recent call last)",
      "\u001b[1;32m<ipython-input-52-ed82c54c1307>\u001b[0m in \u001b[0;36m<module>\u001b[1;34m()\u001b[0m\n\u001b[0;32m      1\u001b[0m \u001b[1;31m# easy dict\u001b[0m\u001b[1;33m\u001b[0m\u001b[1;33m\u001b[0m\u001b[0m\n\u001b[1;32m----> 2\u001b[1;33m \u001b[1;32mfrom\u001b[0m \u001b[0measydict\u001b[0m \u001b[1;32mimport\u001b[0m \u001b[0mEasyDict\u001b[0m \u001b[1;32mas\u001b[0m \u001b[0medict\u001b[0m\u001b[1;33m\u001b[0m\u001b[0m\n\u001b[0m\u001b[0;32m      3\u001b[0m \u001b[0md\u001b[0m \u001b[1;33m=\u001b[0m \u001b[0medict\u001b[0m\u001b[1;33m(\u001b[0m\u001b[1;33m{\u001b[0m\u001b[1;34m'foo'\u001b[0m\u001b[1;33m:\u001b[0m\u001b[1;36m3\u001b[0m\u001b[1;33m,\u001b[0m \u001b[1;34m'bar'\u001b[0m\u001b[1;33m:\u001b[0m\u001b[1;33m{\u001b[0m\u001b[1;34m'x'\u001b[0m\u001b[1;33m:\u001b[0m\u001b[1;36m1\u001b[0m\u001b[1;33m,\u001b[0m \u001b[1;34m'y'\u001b[0m\u001b[1;33m:\u001b[0m\u001b[1;36m2\u001b[0m\u001b[1;33m}\u001b[0m\u001b[1;33m}\u001b[0m\u001b[1;33m)\u001b[0m\u001b[1;33m\u001b[0m\u001b[0m\n\u001b[0;32m      4\u001b[0m \u001b[0md\u001b[0m\u001b[1;33m.\u001b[0m\u001b[0mfoo\u001b[0m\u001b[1;33m\u001b[0m\u001b[0m\n\u001b[0;32m      5\u001b[0m \u001b[0md\u001b[0m\u001b[1;33m.\u001b[0m\u001b[0mbar\u001b[0m\u001b[1;33m.\u001b[0m\u001b[0mx\u001b[0m\u001b[1;33m\u001b[0m\u001b[0m\n",
      "\u001b[1;31mImportError\u001b[0m: No module named easydict"
     ]
    }
   ],
   "source": [
    "# easy dict\n",
    "from easydict import EasyDict as edict\n",
    "d = edict({'foo':3, 'bar':{'x':1, 'y':2}})\n",
    "d.foo\n",
    "d.bar.xmd"
   ]
  },
  {
   "cell_type": "code",
   "execution_count": 2,
   "metadata": {
    "collapsed": true
   },
   "outputs": [],
   "source": [
    "# basic arithmetics"
   ]
  },
  {
   "cell_type": "code",
   "execution_count": 3,
   "metadata": {
    "collapsed": true
   },
   "outputs": [],
   "source": [
    "# if-else, if-elseif-else, for, while, etc"
   ]
  },
  {
   "cell_type": "code",
   "execution_count": 4,
   "metadata": {
    "collapsed": true
   },
   "outputs": [],
   "source": [
    "# [list propulation], etc"
   ]
  },
  {
   "cell_type": "code",
   "execution_count": 5,
   "metadata": {
    "collapsed": true
   },
   "outputs": [],
   "source": [
    "# index slicing"
   ]
  }
 ],
 "metadata": {
  "kernelspec": {
   "display_name": "Python 2",
   "language": "python",
   "name": "python2"
  },
  "language_info": {
   "codemirror_mode": {
    "name": "ipython",
    "version": 2
   },
   "file_extension": ".py",
   "mimetype": "text/x-python",
   "name": "python",
   "nbconvert_exporter": "python",
   "pygments_lexer": "ipython2",
   "version": "2.7.11"
  }
 },
 "nbformat": 4,
 "nbformat_minor": 0
}
