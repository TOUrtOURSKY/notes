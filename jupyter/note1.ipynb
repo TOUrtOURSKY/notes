{
 "cells": [
  {
   "cell_type": "markdown",
   "metadata": {},
   "source": [
    "[latex_env_doc](https://rawgit.com/jfbercher/jupyter_latex_envs/master/src/latex_envs/static/doc/latex_env_doc.html#)\n",
    "\n",
    "$$x^y$$\n",
    "**nice**"
   ]
  },
  {
   "cell_type": "code",
   "execution_count": 1,
   "metadata": {
    "collapsed": true
   },
   "outputs": [],
   "source": [
    "import numpy;"
   ]
  },
  {
   "cell_type": "code",
   "execution_count": 2,
   "metadata": {
    "collapsed": false
   },
   "outputs": [
    {
     "name": "stdout",
     "output_type": "stream",
     "text": [
      "/usr/lib/python2.7/dist-packages/numpy/core/include\n"
     ]
    }
   ],
   "source": [
    "print numpy.get_include();"
   ]
  },
  {
   "cell_type": "markdown",
   "metadata": {},
   "source": [
    "\\textit{italic}, \\textbf{boldface}, \\underline{underline} author,\n",
    "\n",
    "The dot-product is defined by equation (\\ref{eq:dotp}) in theorem \\ref{theo:dotp} just below:\n",
    "\\begin{theorem}[Dot Product] \\label{theo:dotp}\n",
    "    Let $u$ and $v$ be two vectors of $\\mathbb{R}^n$. The dot product can be expressed as\n",
    "    \\begin{equation}\n",
    "    \\label{eq:dotp}\n",
    "    u^Tv = |u||v| \\cos \\theta,\n",
    "    \\end{equation}\n",
    "    where $\\theta$ is the angle between $u$ and $v$ ...\n",
    "\\end{theorem}\n",
    "\n",
    "The dot-product is defined by equation (\\ref{eq:dotp2}) in theorem \\ref{theo:dotp2} just below:\n",
    "\\begin{theorem}[Dot Product] \\label{theo:dotp2}\n",
    "Let $u$ and $v$ be two vectors of $\\mathbb{R}^n$. The dot product can be expressed as\n",
    "\\begin{equation}\n",
    "\\label{eq:dotp2}\n",
    "u^Tv = |u||v| \\cos \\theta,\n",
    "\\end{equation}\n",
    "where $\\theta$ is the angle between $u$ and $v$ ...\n",
    "\\end{theorem}"
   ]
  },
  {
   "cell_type": "markdown",
   "metadata": {},
   "source": [
    "refhere\\cite{Cheng2000}"
   ]
  },
  {
   "cell_type": "markdown",
   "metadata": {},
   "source": [
    "\\begin{definition} \\label{def:FT}\n",
    "Let $x[n]$ be a sequence of length $N$. Then, its **Fourier transform** is given by\n",
    "\\begin{equation}\n",
    "\\label{eq:FT}\n",
    "X[k]= \\frac{1}{N} \\sum_{n=0}^{N-1} x[n] e^{-j2\\pi \\frac{kn}{N}}\n",
    "\\end{equation}\n",
    "\\end{definition}\n",
    "\n",
    "As an example of Definition \\ref{def:FT}, consider the Fourier transform (\\ref{eq:FT2}) of a pure cosine wave given by\n",
    "$$\n",
    "x[n]= \\cos(2\\pi k_0 n/N),\n",
    "$$\n",
    "where $k_0$ is an integer. "
   ]
  },
  {
   "cell_type": "markdown",
   "metadata": {},
   "source": [
    "\\begin{figure}\n",
    "\\centerline{\\includegraphics[width=10cm]{res/example.png}}\n",
    "\\caption{\\label{fig:example} This is an example of figure included using LaTeX commands.}\n",
    "\\end{figure}"
   ]
  },
  {
   "cell_type": "markdown",
   "metadata": {},
   "source": [
    "![](res/example.png)"
   ]
  },
  {
   "cell_type": "code",
   "execution_count": 2,
   "metadata": {
    "collapsed": false
   },
   "outputs": [
    {
     "data": {
      "text/html": [
       "<div class=caption><b> Caption: </b> This is a nice sine wave</div>"
      ],
      "text/plain": [
       "<IPython.core.display.HTML object>"
      ]
     },
     "metadata": {},
     "output_type": "display_data"
    },
    {
     "data": {
      "text/plain": [
       "[<matplotlib.lines.Line2D at 0x7fa8f7d25550>]"
      ]
     },
     "execution_count": 2,
     "metadata": {},
     "output_type": "execute_result"
    },
    {
     "data": {
      "image/png": "[encoded data removed]",
      "text/plain": [
       "<matplotlib.figure.Figure at 0x7fa8fd866e90>"
      ]
     },
     "metadata": {},
     "output_type": "display_data"
    }
   ],
   "source": [
    "%matplotlib inline\n",
    "import matplotlib.pyplot as plt\n",
    "from jupyter_contrib_nbextensions.nbconvert_support.latex_envs import figcaption\n",
    "from numpy import pi, sin, arange\n",
    "figcaption(\"This is a nice sine wave\", label=\"fig:mysin\")\n",
    "plt.plot(sin(2*pi*0.01*arange(100)))"
   ]
  },
  {
   "cell_type": "markdown",
   "metadata": {},
   "source": [
    "This is an example of nested environments, with equations inside\\\\\n",
    "\\begin{proof} Demo\n",
    "% This is a comment\n",
    "\\begin{enumerate}\n",
    "\\item $$ \\left\\{ p_1, p_2, p_3 \\ldots p_n \\right\\} $$\n",
    "\\item A **nested enumerate**\n",
    "\\item second item \n",
    "\\begin{enumerate}\n",
    "\\item $ \\left\\{ p_1, p_2, p_3 \\ldots p_n \\right\\} $\n",
    "\\item And *another one*\n",
    "\\item second item \n",
    "\\begin{enumerate}\n",
    "\\item $$ \\left\\{ p_1, p_2, p_3 \\ldots p_n \\right\\} $$\n",
    "\\item second item \n",
    "\\end{enumerate}\n",
    "\\end{enumerate}\n",
    "\\end{enumerate}\n",
    "\\end{proof}\n",
    "\n",
    "- $$ \\left\\{ p_1, p_2, p_3 \\ldots p_n \\right\\} $$\n",
    "- A **nested enumerate**\n",
    "- $ \\left\\{ p_1, p_2, p_3 \\ldots p_n \\right\\} $"
   ]
  },
  {
   "cell_type": "markdown",
   "metadata": {},
   "source": [
    "\\begin{proposition}\\label{prop:me}\n",
    "这是一个 proposition\n",
    "\\end{proposition}\n"
   ]
  },
  {
   "cell_type": "code",
   "execution_count": null,
   "metadata": {
    "collapsed": true
   },
   "outputs": [],
   "source": []
  },
  {
   "cell_type": "markdown",
   "metadata": {},
   "source": [
    "# References\n",
    "\n",
    "[<a id=\"cit-Cheng2000\" href=\"#call-Cheng2000\">?</a>] Cheng Yang and Lorre Jean J., ``_Equal Area Map Projection for Irregularly Shaped Objects_'', Cartography and Geographic Information Science, vol. 27, number 2, pp. 91--100, jan 2000.  [online](http://www.tandfonline.com/doi/abs/10.1559/152304000783547957)\n",
    "\n"
   ]
  }
 ],
 "metadata": {
  "author": "The title",
  "kernelspec": {
   "display_name": "Python 2",
   "language": "python",
   "name": "python2"
  },
  "language_info": {
   "codemirror_mode": {
    "name": "ipython",
    "version": 2
   },
   "file_extension": ".py",
   "mimetype": "text/x-python",
   "name": "python",
   "nbconvert_exporter": "python",
   "pygments_lexer": "ipython2",
   "version": "2.7.12"
  },
  "latex_envs": {
   "LaTeX_envs_menu_present": true,
   "bibliofile": "res/refs.bib",
   "cite_by": "key",
   "current_citInitial": 1,
   "eqLabelWithNumbers": true,
   "eqNumInitial": 1,
   "labels_anchors": true,
   "latex_user_defs": true,
   "report_style_numbering": true,
   "user_envs_cfg": true
  }
 },
 "nbformat": 4,
 "nbformat_minor": 2
}
